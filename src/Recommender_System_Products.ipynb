{
 "cells": [
  {
   "cell_type": "code",
   "execution_count": 7,
   "metadata": {},
   "outputs": [],
   "source": [
    "import pandas as pd\n",
    "import numpy as np"
   ]
  },
  {
   "cell_type": "code",
   "execution_count": 11,
   "metadata": {},
   "outputs": [],
   "source": [
    "class utility_matrix:\n",
    "    def __init__(self,path,ratings_column,product_id_column,user_id_column):\n",
    "        self.df = pd.read_csv(path) # csv file as dataframe\n",
    "        self.ratings_column = ratings_column # ratings column label\n",
    "        self.product_id_column = product_id_column # product id column label\n",
    "        self.user_id_column = user_id_column # user id column label\n",
    "    def predict_ratings(self):\n",
    "        user_item_ratings = pd.pivot_table(self.df,values=self.ratings_column,index=self.user_id_column,columns=self.product_id_column,aggfunc=np.min) #utility matrix\n",
    "        user_item_ratings_binary = user_item_ratings.div(user_item_ratings).fillna(0) # utility matrix with values : 1 is user has rated item and 0 if not\n",
    "        user_item_ratings = user_item_ratings.sub(user_item_ratings.mean(axis=1),axis=0) # normalize utility matrix\n",
    "        item_item_correlations = user_item_ratings.corr() # item to item correlation matrix\n",
    "        item_item_correlations = item_item_correlations.fillna(0)\n",
    "        user_item_ratings = user_item_ratings.fillna(0)\n",
    "        ratings_count = pd.DataFrame(self.df.groupby(self.product_id_column)[self.ratings_column].count()) # list of products with their total ratings count\n",
    "        ratings_count = ratings_count.loc[(ratings_count!=0).any(axis=1)] # removing products that have 0 ratings\n",
    "        sum__similarities_user_rated_items = user_item_ratings_binary.dot(item_item_correlations.abs()) # sum of similarities between user rated items and other items\n",
    "        sum_ratings_count_per_user = user_item_ratings_binary.dot(ratings_count[self.ratings_column]) #list of total rating count of items that user has rated\n",
    "        user_item_ratings.dot(item_item_correlations)\n",
    "        predictions = (user_item_ratings.mul(ratings_count[self.ratings_column],axis=1)).dot(item_item_correlations).div(sum_ratings_count_per_user,axis='index').div(sum__similarities_user_rated_items)\n",
    "        predictions = predictions.mul(user_item_ratings_binary.replace(to_replace = 1 ,value = np.nan).replace(to_replace = 0 ,value = 1)) # removing user rated items from dataframe(only predicted items)\n",
    "        return predictions"
   ]
  },
  {
   "cell_type": "code",
   "execution_count": 12,
   "metadata": {},
   "outputs": [],
   "source": [
    "u1 = utility_matrix(path='C://Users/Dimitri/Desktop/reduced_reviews.csv',ratings_column = 'rating',product_id_column='productid',user_id_column='username')"
   ]
  },
  {
   "cell_type": "code",
   "execution_count": 14,
   "metadata": {},
   "outputs": [],
   "source": [
    "u1.predict_ratings().to_csv('predictions.csv')"
   ]
  },
  {
   "cell_type": "code",
   "execution_count": 13,
   "metadata": {},
   "outputs": [],
   "source": []
  },
  {
   "cell_type": "code",
   "execution_count": null,
   "metadata": {},
   "outputs": [],
   "source": []
  }
 ],
 "metadata": {
  "kernelspec": {
   "display_name": "Python 3",
   "language": "python",
   "name": "python3"
  },
  "language_info": {
   "codemirror_mode": {
    "name": "ipython",
    "version": 3
   },
   "file_extension": ".py",
   "mimetype": "text/x-python",
   "name": "python",
   "nbconvert_exporter": "python",
   "pygments_lexer": "ipython3",
   "version": "3.7.6"
  }
 },
 "nbformat": 4,
 "nbformat_minor": 4
}
